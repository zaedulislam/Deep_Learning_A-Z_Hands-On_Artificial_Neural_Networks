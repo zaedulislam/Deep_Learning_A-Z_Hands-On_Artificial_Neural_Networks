{
  "nbformat": 4,
  "nbformat_minor": 0,
  "metadata": {
    "colab": {
      "name": "Convolutional Neural Network (CNN).ipynb",
      "provenance": [],
      "collapsed_sections": [],
      "include_colab_link": true
    },
    "kernelspec": {
      "display_name": "Python 3",
      "language": "python",
      "name": "python3"
    },
    "language_info": {
      "codemirror_mode": {
        "name": "ipython",
        "version": 3
      },
      "file_extension": ".py",
      "mimetype": "text/x-python",
      "name": "python",
      "nbconvert_exporter": "python",
      "pygments_lexer": "ipython3",
      "version": "3.8.8"
    }
  },
  "cells": [
    {
      "cell_type": "markdown",
      "metadata": {
        "id": "view-in-github",
        "colab_type": "text"
      },
      "source": [
        "<a href=\"https://colab.research.google.com/github/zaedulislam/Deep_Learning_A-Z_Hands-On_Artificial_Neural_Networks/blob/main/Section%207%20-%20Building%20a%20CNN/Convolutional%20Neural%20Network%20(CNN).ipynb\" target=\"_parent\"><img src=\"https://colab.research.google.com/assets/colab-badge.svg\" alt=\"Open In Colab\"/></a>"
      ]
    },
    {
      "cell_type": "markdown",
      "metadata": {
        "id": "q8-cBAG-BNS1"
      },
      "source": [
        "# Convolutional Neural Network (CNN)"
      ]
    },
    {
      "cell_type": "markdown",
      "metadata": {
        "id": "DNQDBo9vBUwt"
      },
      "source": [
        "Notion Page: https://www.notion.so/islamzaedul/Convolutional-Neural-Network-CNN-aff89e5d024246058259258cafb1ec0a"
      ]
    },
    {
      "cell_type": "markdown",
      "metadata": {
        "id": "DO4FEKqbB6Kn"
      },
      "source": [
        "### Importing the libraries"
      ]
    },
    {
      "cell_type": "code",
      "metadata": {
        "id": "d2jWEFpUBLHF"
      },
      "source": [
        "# TensorFlow is already preinstalled as a library in Google Colab, but we still need to import it\n",
        "import tensorflow as tf\n",
        "\n",
        "# image -> module\n",
        "# ImageDataGenerator class generate batches of tensor image data with real-time data augmentation\n",
        "from keras.preprocessing.image import ImageDataGenerator"
      ],
      "execution_count": null,
      "outputs": []
    },
    {
      "cell_type": "code",
      "metadata": {
        "colab": {
          "base_uri": "https://localhost:8080/",
          "height": 35
        },
        "id": "46UIqrDVEo-x",
        "outputId": "d4e9f904-ccc0-40ce-9e25-f54713db91cf"
      },
      "source": [
        "tf.__version__"
      ],
      "execution_count": null,
      "outputs": [
        {
          "data": {
            "text/plain": [
              "'2.7.0'"
            ]
          },
          "execution_count": 2,
          "metadata": {},
          "output_type": "execute_result"
        }
      ]
    },
    {
      "cell_type": "markdown",
      "metadata": {
        "id": "atBTqEFHE3WO"
      },
      "source": [
        "## Part 1 - Data Processing"
      ]
    },
    {
      "cell_type": "markdown",
      "metadata": {
        "id": "Y9JPvNFiE-c_"
      },
      "source": [
        "### Preprocessing the Training set"
      ]
    },
    {
      "cell_type": "code",
      "metadata": {
        "colab": {
          "base_uri": "https://localhost:8080/",
          "height": 362
        },
        "id": "g2LDZiUK3NIb",
        "outputId": "17efc67d-8a88-4ed6-8794-3e24cc0a1e97"
      },
      "source": [
        "# IMAGE AUGMENTATION\n",
        "# \"zoom_range\" -> consists of zooming in or zooming out on the images\n",
        "# \"horizontal_flip\" -> consists of flipping the images horizontally\n",
        "# \"shear_range\" -> Float. Shear Intensity (Shear angle in counter-clockwise direction in degrees)\n",
        "\n",
        "# FEATURE SCALING\n",
        "# \"rescale\" -> This will apply feature scaling to each and every single one of your pixels by dividing their value by 255. Each pixel takes a value between zero and 255. \n",
        "# So by dividing all of them by 255, we indeed get all the pixel values between zero and one, which is just like a normalization. \n",
        "# Feature scaling is absolutely compulsory when training neural networks.\n",
        "\n",
        "# train_datagen is an instance of ImageDataGenerator class\n",
        "train_datagen = ImageDataGenerator(\n",
        "        rescale=1./255,\n",
        "        shear_range=0.2,\n",
        "        zoom_range=0.2,\n",
        "        horizontal_flip=True)\n",
        "\n",
        "\n",
        "# \"target_size\" -> Final size of the images, that will be fed into the convolutional neural network. target_size=(150, 150) takes more time to train\n",
        "# \"batch_size\" -> The size of the batches, meaning how many images we want to have in each batch. And the 32 is a classic default value.\n",
        "\n",
        "training_set = train_datagen .flow_from_directory(\n",
        "        'dataset/training_set',\n",
        "        target_size=(64, 64),\n",
        "        batch_size=32,\n",
        "        class_mode='binary')"
      ],
      "execution_count": null,
      "outputs": [
        {
          "name": "stdout",
          "output_type": "stream",
          "text": [
            "Found 8000 images belonging to 2 classes.\n"
          ]
        }
      ]
    },
    {
      "cell_type": "markdown",
      "metadata": {
        "id": "JmGEaDzdFELA"
      },
      "source": [
        "### Preprocessing the Test set"
      ]
    },
    {
      "cell_type": "code",
      "metadata": {
        "id": "FHo7FvLONeLQ",
        "outputId": "3f17e5e7-963f-4719-b768-fdb708c719c5"
      },
      "source": [
        "# We're keeping the test data intact like the original ones by not applying any transformation. \n",
        "# However, we've to rescale their pixels to avoid information leakage from the test set. The future predict method of CNN will have\n",
        "# to be applied to the same scaling as the one that was applied on the training set.\n",
        "test_datagen = ImageDataGenerator(rescale=1./255) \n",
        "\n",
        "# \"flow_from_directory(...)\" access the dataset from the directory\n",
        "# \"target_size\", \"batch_size\", \"class_mode\" should be same as for the \"training_set\"\n",
        "\n",
        "test_set = test_datagen.flow_from_directory(\n",
        "        'dataset/test_set',\n",
        "        target_size=(64, 64),\n",
        "        batch_size=32,\n",
        "        class_mode='binary')"
      ],
      "execution_count": null,
      "outputs": [
        {
          "name": "stdout",
          "output_type": "stream",
          "text": [
            "Found 2000 images belonging to 2 classes.\n"
          ]
        }
      ]
    },
    {
      "cell_type": "markdown",
      "metadata": {
        "id": "e_YNRyVJaNK1"
      },
      "source": [
        "## Part 2 - Building the CNN"
      ]
    },
    {
      "cell_type": "markdown",
      "metadata": {
        "id": "rhux0sFaaSS_"
      },
      "source": [
        "### Initializing the CNN"
      ]
    },
    {
      "cell_type": "code",
      "metadata": {
        "id": "8cPEF4A-aVII"
      },
      "source": [
        "# CNN is also a sequence of layers as opposed to a Computational Graph\n",
        "\n",
        "# keras -> library\n",
        "# models -> module\n",
        "# Sequential -> class\n",
        "\n",
        "cnn = tf.keras.models.Sequential()"
      ],
      "execution_count": null,
      "outputs": []
    },
    {
      "cell_type": "markdown",
      "metadata": {
        "id": "2Mlo63WRbLRF"
      },
      "source": [
        "### Step 1 - Convolution"
      ]
    },
    {
      "cell_type": "code",
      "metadata": {
        "id": "HZDK7XXhbOeC"
      },
      "source": [
        "# Adding the convolutional layer to the CNN so far initialized as a sequence of layers\n",
        "\n",
        "# layers -> module\n",
        "# Conv2D -> class\n",
        "\n",
        "# relu -> rectifier activation function\n",
        "# input_shape -> When we add the very first layer, whether it is a convolutional layer or a dense layer. We have to specify the \n",
        "# input shape of your inputs. And here, since we were working with colored images, therefore in three dimensions, corresponding \n",
        "# to the RGB code of colors. As, We actually resized in \"Part 1 - Data Processing\", are images down to 64 by 64. The input shape \n",
        "# of our images will be 64, 64 and 1.\n",
        "\n",
        "cnn.add(tf.keras.layers.Conv2D(filters=32, kernel_size=3, activation='relu', input_shape=[64, 64, 3]))"
      ],
      "execution_count": null,
      "outputs": []
    },
    {
      "cell_type": "markdown",
      "metadata": {
        "id": "-EkobFnddsuD"
      },
      "source": [
        "### Step 2 - Pooling"
      ]
    },
    {
      "cell_type": "code",
      "metadata": {
        "id": "UueYhB5ldvk6"
      },
      "source": [
        "# Adding the pooling layers to the convolutional layer\n",
        "\n",
        "# MaxPool2D -> class\n",
        "# pool_size -> the size of the frame\n",
        "# strides=2 -> shift that frame every two pixels \n",
        "\n",
        "\n",
        "cnn.add(tf.keras.layers.MaxPool2D(pool_size=2, strides=2))"
      ],
      "execution_count": null,
      "outputs": []
    },
    {
      "cell_type": "markdown",
      "metadata": {
        "id": "4SOYvqxGfnC8"
      },
      "source": [
        "### Adding a second convolutional layer"
      ]
    },
    {
      "cell_type": "code",
      "metadata": {
        "id": "6OjJHflAfzMB"
      },
      "source": [
        "# Adding a second convolutional layer with Max Pooling\n",
        "\n",
        "# Remove the input_shape=[64, 64, 3] parameter because this one is entered only when adding the very first layer\n",
        "# to automatically connect that first layer to the input layer, which automatically add the input layer\n",
        "\n",
        "cnn.add(tf.keras.layers.Conv2D(filters=32, kernel_size=3, activation='relu'))\n",
        "cnn.add(tf.keras.layers.MaxPool2D(pool_size=2, strides=2))"
      ],
      "execution_count": null,
      "outputs": []
    },
    {
      "cell_type": "markdown",
      "metadata": {
        "id": "AVEiSSVphIxV"
      },
      "source": [
        "### Step 3 - Flattening"
      ]
    },
    {
      "cell_type": "code",
      "metadata": {
        "id": "HLfquxD8hhvk"
      },
      "source": [
        "# Flatten -> class\n",
        "cnn.add(tf.keras.layers.Flatten())"
      ],
      "execution_count": null,
      "outputs": []
    },
    {
      "cell_type": "markdown",
      "metadata": {
        "id": "SSD7SU_ViceN"
      },
      "source": [
        "### Step 4 - Full Connection"
      ]
    },
    {
      "cell_type": "code",
      "metadata": {
        "id": "FXcpRchUinPv"
      },
      "source": [
        "# An one dimensional vector that will become the input of a fully connected neural network (a new layer)\n",
        "\n",
        "#  unit -> the number of hidden neurons into this new fully connected layer\n",
        "#  As long as it's not the final output layer, it is recommended to use a rectifier activation function (relu)\n",
        "\n",
        "cnn.add(tf.keras.layers.Dense(units=128, activation='relu'))"
      ],
      "execution_count": null,
      "outputs": []
    },
    {
      "cell_type": "markdown",
      "metadata": {
        "id": "0cllU0cHiom1"
      },
      "source": [
        "### Step 5 - Output Layer"
      ]
    },
    {
      "cell_type": "code",
      "metadata": {
        "id": "njTWs7WRjnVn"
      },
      "source": [
        "# Adding the final output layer, which will still be fully connected to that previous hidden layer\n",
        "\n",
        "# Since We're doing binary classification, we only need one neuron to encode that binary class zero or one or, cat or dog\n",
        "# Therefore, we only need one neuron.\n",
        "# For the output layer, it is not recommended to have a rectifier activation function, but rather a sigmoid activation function\n",
        "# activation='sigmoid' -> For binary classification\n",
        "# activation='softmax' -> For doing multiclass classification\n",
        "\n",
        "cnn.add(tf.keras.layers.Dense(units=1, activation='sigmoid'))"
      ],
      "execution_count": null,
      "outputs": []
    },
    {
      "cell_type": "markdown",
      "metadata": {
        "id": "xkvJCo3Pz_uC"
      },
      "source": [
        "## Part 3 - Training the CNN"
      ]
    },
    {
      "cell_type": "markdown",
      "metadata": {
        "id": "Pjvbuf7m0Fya"
      },
      "source": [
        "### Compiling the CNN"
      ]
    },
    {
      "cell_type": "code",
      "metadata": {
        "id": "X619tPN20JQL"
      },
      "source": [
        "cnn.compile(optimizer = 'adam', loss = 'binary_crossentropy', metrics = ['accuracy'])"
      ],
      "execution_count": null,
      "outputs": []
    },
    {
      "cell_type": "markdown",
      "metadata": {
        "id": "vJlWNM_h1nvx"
      },
      "source": [
        "### Training the CNN on the Training set and evaluating it on the Test set"
      ]
    },
    {
      "cell_type": "code",
      "metadata": {
        "id": "j8jjehRT1o1X",
        "outputId": "905fc59f-8fbe-4d51-cd95-6a74edc92605"
      },
      "source": [
        "# Train the CNN on a training set and evaluating it on the tests\n",
        "\n",
        "cnn.fit(x = training_set, validation_data = test_set, epochs = 25)"
      ],
      "execution_count": null,
      "outputs": [
        {
          "name": "stdout",
          "output_type": "stream",
          "text": [
            "Epoch 1/25\n",
            "250/250 [==============================] - 120s 478ms/step - loss: 0.6670 - accuracy: 0.5896 - val_loss: 0.6411 - val_accuracy: 0.6555\n",
            "Epoch 2/25\n",
            "250/250 [==============================] - 52s 206ms/step - loss: 0.6164 - accuracy: 0.6681 - val_loss: 0.5960 - val_accuracy: 0.6850\n",
            "Epoch 3/25\n",
            "250/250 [==============================] - 53s 212ms/step - loss: 0.5814 - accuracy: 0.6965 - val_loss: 0.5954 - val_accuracy: 0.6995\n",
            "Epoch 4/25\n",
            "250/250 [==============================] - 52s 207ms/step - loss: 0.5488 - accuracy: 0.7174 - val_loss: 0.5397 - val_accuracy: 0.7385\n",
            "Epoch 5/25\n",
            "250/250 [==============================] - 54s 218ms/step - loss: 0.5179 - accuracy: 0.7420 - val_loss: 0.5136 - val_accuracy: 0.7635\n",
            "Epoch 6/25\n",
            "250/250 [==============================] - 51s 203ms/step - loss: 0.4876 - accuracy: 0.7646 - val_loss: 0.5055 - val_accuracy: 0.7650\n",
            "Epoch 7/25\n",
            "250/250 [==============================] - 51s 203ms/step - loss: 0.4735 - accuracy: 0.7699 - val_loss: 0.5032 - val_accuracy: 0.7685\n",
            "Epoch 8/25\n",
            "250/250 [==============================] - 50s 201ms/step - loss: 0.4522 - accuracy: 0.7875 - val_loss: 0.5032 - val_accuracy: 0.7695\n",
            "Epoch 9/25\n",
            "250/250 [==============================] - 50s 201ms/step - loss: 0.4319 - accuracy: 0.7968 - val_loss: 0.4963 - val_accuracy: 0.7605\n",
            "Epoch 10/25\n",
            "250/250 [==============================] - 55s 219ms/step - loss: 0.4144 - accuracy: 0.8074 - val_loss: 0.4954 - val_accuracy: 0.7745\n",
            "Epoch 11/25\n",
            "250/250 [==============================] - 57s 227ms/step - loss: 0.4046 - accuracy: 0.8119 - val_loss: 0.4634 - val_accuracy: 0.7835\n",
            "Epoch 12/25\n",
            "250/250 [==============================] - 52s 207ms/step - loss: 0.3843 - accuracy: 0.8276 - val_loss: 0.4785 - val_accuracy: 0.7860\n",
            "Epoch 13/25\n",
            "250/250 [==============================] - 54s 218ms/step - loss: 0.3579 - accuracy: 0.8415 - val_loss: 0.4899 - val_accuracy: 0.7930\n",
            "Epoch 14/25\n",
            "250/250 [==============================] - 52s 208ms/step - loss: 0.3538 - accuracy: 0.8443 - val_loss: 0.4843 - val_accuracy: 0.8030\n",
            "Epoch 15/25\n",
            "250/250 [==============================] - 57s 227ms/step - loss: 0.3352 - accuracy: 0.8501 - val_loss: 0.4720 - val_accuracy: 0.7945\n",
            "Epoch 16/25\n",
            "250/250 [==============================] - 52s 207ms/step - loss: 0.3227 - accuracy: 0.8601 - val_loss: 0.4741 - val_accuracy: 0.8025\n",
            "Epoch 17/25\n",
            "250/250 [==============================] - 51s 202ms/step - loss: 0.3085 - accuracy: 0.8658 - val_loss: 0.5222 - val_accuracy: 0.7875\n",
            "Epoch 18/25\n",
            "250/250 [==============================] - 53s 212ms/step - loss: 0.2856 - accuracy: 0.8783 - val_loss: 0.4847 - val_accuracy: 0.7980\n",
            "Epoch 19/25\n",
            "250/250 [==============================] - 53s 210ms/step - loss: 0.2728 - accuracy: 0.8841 - val_loss: 0.5100 - val_accuracy: 0.7960\n",
            "Epoch 20/25\n",
            "250/250 [==============================] - 51s 203ms/step - loss: 0.2582 - accuracy: 0.8882 - val_loss: 0.5091 - val_accuracy: 0.8075\n",
            "Epoch 21/25\n",
            "250/250 [==============================] - 51s 205ms/step - loss: 0.2418 - accuracy: 0.8995 - val_loss: 0.5341 - val_accuracy: 0.7970\n",
            "Epoch 22/25\n",
            "250/250 [==============================] - 52s 208ms/step - loss: 0.2330 - accuracy: 0.9004 - val_loss: 0.5185 - val_accuracy: 0.8090\n",
            "Epoch 23/25\n",
            "250/250 [==============================] - 52s 209ms/step - loss: 0.2230 - accuracy: 0.9087 - val_loss: 0.5221 - val_accuracy: 0.7995\n",
            "Epoch 24/25\n",
            "250/250 [==============================] - 53s 211ms/step - loss: 0.2103 - accuracy: 0.9118 - val_loss: 0.5365 - val_accuracy: 0.8015\n",
            "Epoch 25/25\n",
            "250/250 [==============================] - 55s 222ms/step - loss: 0.1981 - accuracy: 0.9193 - val_loss: 0.5851 - val_accuracy: 0.8050\n"
          ]
        },
        {
          "data": {
            "text/plain": [
              "<keras.callbacks.History at 0x2710b837df0>"
            ]
          },
          "execution_count": 17,
          "metadata": {},
          "output_type": "execute_result"
        }
      ]
    },
    {
      "cell_type": "markdown",
      "metadata": {
        "id": "nmTaTnLO2wxG"
      },
      "source": [
        "## Part 4 - Making a single prediction"
      ]
    },
    {
      "cell_type": "code",
      "metadata": {
        "id": "jqVLWfID33-p"
      },
      "source": [
        "import numpy as np\n",
        "\n",
        "# image -> module\n",
        "from keras.preprocessing import image\n",
        "\n",
        "# target_size -> It must be the same size as the one that was used during the training\n",
        "\n",
        "test_image = image.load_img('dataset/single_prediction/cat_or_dog_2.jpg', target_size = (64, 64))\n",
        "\n",
        "\n",
        "# Converting the test_image into an array\n",
        "test_image = image.img_to_array(test_image)\n",
        "test_image = np.expand_dims(test_image, axis = 0)\n",
        "result = cnn.predict(test_image)\n",
        "\n",
        "training_set.class_indices\n",
        "\n",
        "if result[0][0] == 1:\n",
        "    prediction = 'dog'\n",
        "else:\n",
        "    prediction = 'cat'"
      ],
      "execution_count": null,
      "outputs": []
    },
    {
      "cell_type": "code",
      "metadata": {
        "id": "AfGhyGx-TxtF",
        "outputId": "1ba204c0-0e0d-46c8-e191-b14357384eb3"
      },
      "source": [
        "print(prediction)"
      ],
      "execution_count": null,
      "outputs": [
        {
          "name": "stdout",
          "output_type": "stream",
          "text": [
            "cat\n"
          ]
        }
      ]
    }
  ]
}