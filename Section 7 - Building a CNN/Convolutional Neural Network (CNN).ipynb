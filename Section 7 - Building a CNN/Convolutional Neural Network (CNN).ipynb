{
  "nbformat": 4,
  "nbformat_minor": 0,
  "metadata": {
    "colab": {
      "name": "Convolutional Neural Network (CNN).ipynb",
      "provenance": [],
      "collapsed_sections": [],
      "toc_visible": true,
      "authorship_tag": "ABX9TyO04XLmCiZSBtZypKfNPHjM",
      "include_colab_link": true
    },
    "kernelspec": {
      "name": "python3",
      "display_name": "Python 3"
    },
    "language_info": {
      "name": "python"
    }
  },
  "cells": [
    {
      "cell_type": "markdown",
      "metadata": {
        "id": "view-in-github",
        "colab_type": "text"
      },
      "source": [
        "<a href=\"https://colab.research.google.com/github/zaedulislam/Deep_Learning_A-Z_Hands-On_Artificial_Neural_Networks/blob/main/Section%207%20-%20Building%20a%20CNN/Convolutional%20Neural%20Network%20(CNN).ipynb\" target=\"_parent\"><img src=\"https://colab.research.google.com/assets/colab-badge.svg\" alt=\"Open In Colab\"/></a>"
      ]
    },
    {
      "cell_type": "markdown",
      "metadata": {
        "id": "q8-cBAG-BNS1"
      },
      "source": [
        "# Convolutional Neural Network (CNN)"
      ]
    },
    {
      "cell_type": "markdown",
      "metadata": {
        "id": "DNQDBo9vBUwt"
      },
      "source": [
        "Notion Page: https://www.notion.so/zaedulislam/Deep-Learning-A-Z-Hands-On-Artificial-Neural-Networks-b0f4742181e74b8da987a0db61e0ced9#ea8f4602d93044f786949b38095a407c"
      ]
    },
    {
      "cell_type": "markdown",
      "metadata": {
        "id": "DO4FEKqbB6Kn"
      },
      "source": [
        "### Importing the libraries"
      ]
    },
    {
      "cell_type": "code",
      "metadata": {
        "id": "d2jWEFpUBLHF"
      },
      "source": [
        "# TensorFlow is already preinstalled as a library in Google Colab, but we still need to import it\n",
        "import tensorflow as tf\n",
        "# ImageDataGenerator class generate batches of tensor image data with real-time data augmentation\n",
        "from keras.preprocessing.image import ImageDataGenerator"
      ],
      "execution_count": null,
      "outputs": []
    },
    {
      "cell_type": "code",
      "metadata": {
        "colab": {
          "base_uri": "https://localhost:8080/",
          "height": 35
        },
        "id": "46UIqrDVEo-x",
        "outputId": "48167028-230a-4960-f7c4-9e115338b2eb"
      },
      "source": [
        "tf.__version__"
      ],
      "execution_count": null,
      "outputs": [
        {
          "output_type": "execute_result",
          "data": {
            "application/vnd.google.colaboratory.intrinsic+json": {
              "type": "string"
            },
            "text/plain": [
              "'2.7.0'"
            ]
          },
          "metadata": {},
          "execution_count": 2
        }
      ]
    },
    {
      "cell_type": "markdown",
      "metadata": {
        "id": "atBTqEFHE3WO"
      },
      "source": [
        "## Part 1 - Data Processing"
      ]
    },
    {
      "cell_type": "markdown",
      "metadata": {
        "id": "Y9JPvNFiE-c_"
      },
      "source": [
        "### Preprocessing the Training set"
      ]
    },
    {
      "cell_type": "code",
      "metadata": {
        "id": "g2LDZiUK3NIb"
      },
      "source": [
        "# IMAGE AUGMENTATION\n",
        "# \"zoom_range\" -> consists of zooming in or zooming out on the images\n",
        "# \"horizontal_flip\" -> consists of flipping the images horizontally\n",
        "# \"shear_range\" -> Float. Shear Intensity (Shear angle in counter-clockwise direction in degrees)\n",
        "\n",
        "# FEATURE SCALING\n",
        "# \"rescale\" -> This will apply feature scaling to each and every single one of your pixels by dividing their value by 255. Each pixel takes a value between zero and 255. \n",
        "# So by dividing all of them by 255, we indeed get all the pixel values between zero and one, which is just like a normalization. \n",
        "# Feature scaling is absolutely compulsory when training neural networks.\n",
        "\n",
        "# train_datagen is an instance of ImageDataGenerator class\n",
        "train_datagen = ImageDataGenerator(\n",
        "        rescale=1./255,\n",
        "        shear_range=0.2,\n",
        "        zoom_range=0.2,\n",
        "        horizontal_flip=True)\n",
        "\n",
        "\n",
        "# \"target_size\" -> Final size of the images, that will be fed into the convolutional neural network. target_size=(150, 150) takes more time to train\n",
        "# \"batch_size\" -> The size of the batches, meaning how many images we want to have in each batch. And the 32 is a classic default value.\n",
        "\n",
        "training_set = train_datagen .flow_from_directory(\n",
        "        'dataset/training_set',\n",
        "        target_size=(64, 64),\n",
        "        batch_size=32,\n",
        "        class_mode='binary')"
      ],
      "execution_count": null,
      "outputs": []
    },
    {
      "cell_type": "markdown",
      "metadata": {
        "id": "JmGEaDzdFELA"
      },
      "source": [
        "### Preprocessing the Test set"
      ]
    },
    {
      "cell_type": "code",
      "metadata": {
        "id": "FHo7FvLONeLQ"
      },
      "source": [
        "# We're keeping the test data intact like the original ones by not applying any transformation. \n",
        "# However, we've to rescale their pixels to avoid information leakage from the test set. The future predict method of CNN will have\n",
        "# to be applied to the same scaling as the one that was applied on the training set.\n",
        "test_datagen = ImageDataGenerator(rescale=1./255) \n",
        "\n",
        "# \"flow_from_directory(...)\" access the dataset from the directory\n",
        "# \"target_size\", \"batch_size\", \"class_mode\" should be same as for the \"training_set\"\n",
        "\n",
        "test_test = test_datagen.flow_from_directory(\n",
        "        'dataset/test_set',\n",
        "        target_size=(64, 64),\n",
        "        batch_size=32,\n",
        "        class_mode='binary')"
      ],
      "execution_count": null,
      "outputs": []
    },
    {
      "cell_type": "markdown",
      "metadata": {
        "id": "e_YNRyVJaNK1"
      },
      "source": [
        "## Part 2 - Building the CNN"
      ]
    },
    {
      "cell_type": "markdown",
      "metadata": {
        "id": "rhux0sFaaSS_"
      },
      "source": [
        "### Initializing the CNN"
      ]
    },
    {
      "cell_type": "code",
      "metadata": {
        "id": "8cPEF4A-aVII"
      },
      "source": [
        "# CNN is also a sequence of layers as opposed to a Computational Graph\n",
        "\n",
        "# keras -> library\n",
        "# models -> module\n",
        "# Sequential -> class\n",
        "\n",
        "cnn = tf.keras.models.Sequential()"
      ],
      "execution_count": null,
      "outputs": []
    },
    {
      "cell_type": "markdown",
      "metadata": {
        "id": "2Mlo63WRbLRF"
      },
      "source": [
        "### Step 1 - Convolution"
      ]
    },
    {
      "cell_type": "code",
      "metadata": {
        "id": "HZDK7XXhbOeC"
      },
      "source": [
        "# Adding the convolutional layer to the CNN so far initialized as a sequence of layers\n",
        "\n",
        "# layers -> module\n",
        "# Conv2D -> class\n",
        "\n",
        "# relu -> rectifier activation function\n",
        "# input_shape -> When we add the very first layer, whether it is a convolutional layer or a dense layer. We have to specify the \n",
        "# input shape of your inputs. And here, since we were working with colored images, therefore in three dimensions, corresponding \n",
        "# to the RGB code of colors. As, We actually resized in \"Part 1 - Data Processing\", are images down to 64 by 64. The input shape \n",
        "# of our images will be 64, 64 and 1.\n",
        "\n",
        "cnn.add(tf.keras.layers.Conv2D(filters=32, kernel_size=3, activation='relu', input_shape=[64, 64, 3]))"
      ],
      "execution_count": null,
      "outputs": []
    },
    {
      "cell_type": "markdown",
      "metadata": {
        "id": "-EkobFnddsuD"
      },
      "source": [
        "### Step 2 - Pooling"
      ]
    },
    {
      "cell_type": "code",
      "metadata": {
        "id": "UueYhB5ldvk6"
      },
      "source": [
        "# Adding the pooling layers to the convolutional layer\n",
        "\n",
        "# MaxPool2D -> class\n",
        "# pool_size -> the size of the frame\n",
        "# strides=2 -> shift that frame every two pixels \n",
        "\n",
        "\n",
        "cnn.add(tf.keras.layers.MaxPool2D(pool_size=2, strides=2))"
      ],
      "execution_count": null,
      "outputs": []
    },
    {
      "cell_type": "markdown",
      "metadata": {
        "id": "4SOYvqxGfnC8"
      },
      "source": [
        "### Adding a second convolutional layer"
      ]
    },
    {
      "cell_type": "code",
      "metadata": {
        "id": "6OjJHflAfzMB"
      },
      "source": [
        "# Adding a second convolutional layer with Max Pooling\n",
        "\n",
        "# Remove the input_shape=[64, 64, 3] parameter because this one is entered only when adding the very first layer\n",
        "# to automatically connect that first layer to the input layer, which automatically add the input layer\n",
        "\n",
        "cnn.add(tf.keras.layers.Conv2D(filters=32, kernel_size=3, activation='relu'))\n",
        "cnn.add(tf.keras.layers.MaxPool2D(pool_size=2, strides=2))"
      ],
      "execution_count": null,
      "outputs": []
    },
    {
      "cell_type": "markdown",
      "metadata": {
        "id": "AVEiSSVphIxV"
      },
      "source": [
        "### Step 3 - Flattening"
      ]
    },
    {
      "cell_type": "code",
      "metadata": {
        "id": "HLfquxD8hhvk"
      },
      "source": [
        "# Flatten -> class\n",
        "cnn.add(tf.keras.layers.Flatten())"
      ],
      "execution_count": null,
      "outputs": []
    },
    {
      "cell_type": "markdown",
      "metadata": {
        "id": "SSD7SU_ViceN"
      },
      "source": [
        "### Step 4 - Full Connection"
      ]
    },
    {
      "cell_type": "code",
      "metadata": {
        "id": "FXcpRchUinPv"
      },
      "source": [
        "# An one dimensional vector that will become the input of a fully connected neural network (a new layer)\n",
        "\n",
        "#  unit -> the number of hidden neurons into this new fully connected layer\n",
        "#  As long as it's not the final output layer, it is recommended to use a rectifier activation function (relu)\n",
        "\n",
        "cnn.add(tf.keras.layers.Dense(units=128, activation='relu'))"
      ],
      "execution_count": null,
      "outputs": []
    },
    {
      "cell_type": "markdown",
      "metadata": {
        "id": "0cllU0cHiom1"
      },
      "source": [
        "### Step 5 - Output Layer"
      ]
    },
    {
      "cell_type": "code",
      "metadata": {
        "id": "njTWs7WRjnVn"
      },
      "source": [
        "# Adding the final output layer, which will still be fully connected to that previous hidden layer\n",
        "\n",
        "# Since We're doing binary classification, we only need one neuron to encode that binary class zero or one or, cat or dog\n",
        "# Therefore, we only need one neuron.\n",
        "# For the output layer, it is not recommended to have a rectifier activation function, but rather a sigmoid activation function\n",
        "# activation='sigmoid' -> For binary classification\n",
        "# activation='softmax' -> For doing multiclass classification\n",
        "\n",
        "cnn.add(tf.keras.layers.Dense(units=1, activation='sigmoid'))"
      ],
      "execution_count": null,
      "outputs": []
    }
  ]
}