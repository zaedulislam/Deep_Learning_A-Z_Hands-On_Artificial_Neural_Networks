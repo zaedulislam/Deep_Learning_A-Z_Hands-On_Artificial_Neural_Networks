{
  "nbformat": 4,
  "nbformat_minor": 0,
  "metadata": {
    "colab": {
      "name": "Convolutional Neural Network (CNN).ipynb",
      "provenance": [],
      "collapsed_sections": [],
      "authorship_tag": "ABX9TyOjGJYQ+WgaQOLObxRm117T",
      "include_colab_link": true
    },
    "kernelspec": {
      "name": "python3",
      "display_name": "Python 3"
    },
    "language_info": {
      "name": "python"
    }
  },
  "cells": [
    {
      "cell_type": "markdown",
      "metadata": {
        "id": "view-in-github",
        "colab_type": "text"
      },
      "source": [
        "<a href=\"https://colab.research.google.com/github/zaedulislam/Deep_Learning_A-Z_Hands-On_Artificial_Neural_Networks/blob/main/Section%207%20-%20Building%20a%20CNN/Convolutional%20Neural%20Network%20(CNN).ipynb\" target=\"_parent\"><img src=\"https://colab.research.google.com/assets/colab-badge.svg\" alt=\"Open In Colab\"/></a>"
      ]
    },
    {
      "cell_type": "markdown",
      "metadata": {
        "id": "q8-cBAG-BNS1"
      },
      "source": [
        "# Convolutional Neural Network (CNN)"
      ]
    },
    {
      "cell_type": "markdown",
      "metadata": {
        "id": "DNQDBo9vBUwt"
      },
      "source": [
        "Notion Page: https://www.notion.so/zaedulislam/Deep-Learning-A-Z-Hands-On-Artificial-Neural-Networks-b0f4742181e74b8da987a0db61e0ced9#ea8f4602d93044f786949b38095a407c"
      ]
    },
    {
      "cell_type": "markdown",
      "metadata": {
        "id": "DO4FEKqbB6Kn"
      },
      "source": [
        "### Importing the libraries"
      ]
    },
    {
      "cell_type": "code",
      "metadata": {
        "id": "d2jWEFpUBLHF"
      },
      "source": [
        "# TensorFlow is already preinstalled as a library in Google Colab, but we still need to import it\n",
        "import tensorflow as tf\n",
        "# ImageDataGenerator class generate batches of tensor image data with real-time data augmentation\n",
        "from keras.preprocessing.image import ImageDataGenerator"
      ],
      "execution_count": 2,
      "outputs": []
    },
    {
      "cell_type": "code",
      "metadata": {
        "colab": {
          "base_uri": "https://localhost:8080/",
          "height": 35
        },
        "id": "46UIqrDVEo-x",
        "outputId": "60afd7db-02f9-4358-bb08-26bfe10a9bcc"
      },
      "source": [
        "tf.__version__"
      ],
      "execution_count": 3,
      "outputs": [
        {
          "output_type": "execute_result",
          "data": {
            "application/vnd.google.colaboratory.intrinsic+json": {
              "type": "string"
            },
            "text/plain": [
              "'2.7.0'"
            ]
          },
          "metadata": {},
          "execution_count": 3
        }
      ]
    },
    {
      "cell_type": "markdown",
      "metadata": {
        "id": "atBTqEFHE3WO"
      },
      "source": [
        "## Part 1 - Data Processing"
      ]
    },
    {
      "cell_type": "markdown",
      "metadata": {
        "id": "Y9JPvNFiE-c_"
      },
      "source": [
        "### Preprocessing the Training set"
      ]
    },
    {
      "cell_type": "code",
      "metadata": {
        "id": "g2LDZiUK3NIb"
      },
      "source": [
        "# IMAGE AUGMENTATION\n",
        "# \"zoom_range\" -> consists of zooming in or zooming out on the images\n",
        "# \"horizontal_flip\" -> consists of flipping the images horizontally\n",
        "# \"shear_range\" -> Float. Shear Intensity (Shear angle in counter-clockwise direction in degrees)\n",
        "\n",
        "# FEATURE SCALING\n",
        "# \"rescale\" -> This will apply feature scaling to each and every single one of your pixels by dividing their value by 255. Each pixel takes a value between zero and 255. \n",
        "# So by dividing all of them by 255, we indeed get all the pixel values between zero and one, which is just like a normalization. \n",
        "# Feature scaling is absolutely compulsory when training neural networks.\n",
        "\n",
        "# train_datagen is an instance of ImageDataGenerator class\n",
        "train_datagen = ImageDataGenerator(\n",
        "        rescale=1./255,\n",
        "        shear_range=0.2,\n",
        "        zoom_range=0.2,\n",
        "        horizontal_flip=True)\n",
        "\n",
        "\n",
        "# \"target_size\" -> Final size of the images, that will be fed into the convolutional neural network. target_size=(150, 150) takes more time to train\n",
        "# \"batch_size\" -> The size of the batches, meaning how many images we want to have in each batch. And the 32 is a classic default value.\n",
        "\n",
        "training_set = train_datagen .flow_from_directory(\n",
        "        'dataset/training_set',\n",
        "        target_size=(64, 64),\n",
        "        batch_size=32,\n",
        "        class_mode='binary')"
      ],
      "execution_count": 4,
      "outputs": []
    },
    {
      "cell_type": "markdown",
      "metadata": {
        "id": "JmGEaDzdFELA"
      },
      "source": [
        "### Preprocessing the Test set"
      ]
    },
    {
      "cell_type": "code",
      "metadata": {
        "id": "FHo7FvLONeLQ"
      },
      "source": [
        "# We're keeping the test data intact like the original ones by not applying any transformation. \n",
        "# However, we've to rescale their pixels to avoid information leakage from the test set. The future predict method of CNN will have\n",
        "# to be applied to the same scaling as the one that was applied on the training set.\n",
        "test_datagen = ImageDataGenerator(rescale=1./255) \n",
        "\n",
        "# \"flow_from_directory(...)\" access the dataset from the directory\n",
        "# \"target_size\", \"batch_size\", \"class_mode\" should be same as for the \"training_set\"\n",
        "\n",
        "test_test = test_datagen.flow_from_directory(\n",
        "        'dataset/test_set',\n",
        "        target_size=(64, 64),\n",
        "        batch_size=32,\n",
        "        class_mode='binary')"
      ],
      "execution_count": null,
      "outputs": []
    }
  ]
}